{
 "cells": [
  {
   "cell_type": "code",
   "execution_count": 51,
   "id": "836f7cec",
   "metadata": {},
   "outputs": [
    {
     "name": "stdout",
     "output_type": "stream",
     "text": [
      "Defaulting to user installation because normal site-packages is not writeable\n",
      "Requirement already satisfied: selenium in c:\\users\\jkuma\\appdata\\roaming\\python\\python39\\site-packages (4.9.0)\n",
      "Requirement already satisfied: trio-websocket~=0.9 in c:\\users\\jkuma\\appdata\\roaming\\python\\python39\\site-packages (from selenium) (0.10.2)\n",
      "Requirement already satisfied: urllib3[socks]~=1.26 in c:\\programdata\\anaconda3\\lib\\site-packages (from selenium) (1.26.11)\n",
      "Requirement already satisfied: trio~=0.17 in c:\\users\\jkuma\\appdata\\roaming\\python\\python39\\site-packages (from selenium) (0.22.0)\n",
      "Requirement already satisfied: certifi>=2021.10.8 in c:\\programdata\\anaconda3\\lib\\site-packages (from selenium) (2022.9.14)\n",
      "Requirement already satisfied: idna in c:\\programdata\\anaconda3\\lib\\site-packages (from trio~=0.17->selenium) (3.3)\n",
      "Requirement already satisfied: async-generator>=1.9 in c:\\users\\jkuma\\appdata\\roaming\\python\\python39\\site-packages (from trio~=0.17->selenium) (1.10)\n",
      "Requirement already satisfied: sortedcontainers in c:\\programdata\\anaconda3\\lib\\site-packages (from trio~=0.17->selenium) (2.4.0)\n",
      "Requirement already satisfied: outcome in c:\\users\\jkuma\\appdata\\roaming\\python\\python39\\site-packages (from trio~=0.17->selenium) (1.2.0)\n",
      "Requirement already satisfied: sniffio in c:\\programdata\\anaconda3\\lib\\site-packages (from trio~=0.17->selenium) (1.2.0)\n",
      "Requirement already satisfied: cffi>=1.14 in c:\\programdata\\anaconda3\\lib\\site-packages (from trio~=0.17->selenium) (1.15.1)\n",
      "Requirement already satisfied: exceptiongroup>=1.0.0rc9 in c:\\users\\jkuma\\appdata\\roaming\\python\\python39\\site-packages (from trio~=0.17->selenium) (1.1.1)\n",
      "Requirement already satisfied: attrs>=19.2.0 in c:\\programdata\\anaconda3\\lib\\site-packages (from trio~=0.17->selenium) (21.4.0)\n",
      "Requirement already satisfied: wsproto>=0.14 in c:\\users\\jkuma\\appdata\\roaming\\python\\python39\\site-packages (from trio-websocket~=0.9->selenium) (1.2.0)\n",
      "Requirement already satisfied: PySocks!=1.5.7,<2.0,>=1.5.6 in c:\\programdata\\anaconda3\\lib\\site-packages (from urllib3[socks]~=1.26->selenium) (1.7.1)\n",
      "Requirement already satisfied: pycparser in c:\\programdata\\anaconda3\\lib\\site-packages (from cffi>=1.14->trio~=0.17->selenium) (2.21)\n",
      "Requirement already satisfied: h11<1,>=0.9.0 in c:\\users\\jkuma\\appdata\\roaming\\python\\python39\\site-packages (from wsproto>=0.14->trio-websocket~=0.9->selenium) (0.14.0)\n",
      "Note: you may need to restart the kernel to use updated packages.\n"
     ]
    }
   ],
   "source": [
    "pip install selenium\n"
   ]
  },
  {
   "cell_type": "code",
   "execution_count": 8,
   "id": "d11c1afe",
   "metadata": {},
   "outputs": [],
   "source": [
    "from selenium import webdriver\n",
    "from time import sleep\n",
    "import selenium\n",
    "from selenium import webdriver\n",
    "from selenium.webdriver import Chrome, ChromeOptions\n",
    "from selenium.webdriver.common.by import By\n",
    "from selenium.webdriver.common.keys import Keys\n",
    "from selenium.common.exceptions import NoSuchElementException\n",
    "from selenium.webdriver.chrome.options import Options\n",
    "# from selenium.webdriver.chrome.service import Service\n",
    "from webdriver_manager.chrome import ChromeDriverManager\n",
    "from selenium.webdriver.chrome.service import Service"
   ]
  },
  {
   "cell_type": "code",
   "execution_count": 9,
   "id": "6b70c3e6",
   "metadata": {},
   "outputs": [],
   "source": [
    "serv_obj=Service(r\"C:\\Users\\Jkuma\\Downloads\\chromedriver_win32\\chromedriver.exe\")"
   ]
  },
  {
   "cell_type": "code",
   "execution_count": 10,
   "id": "88eeb115",
   "metadata": {},
   "outputs": [],
   "source": [
    "driver=webdriver.Chrome(service=serv_obj)"
   ]
  },
  {
   "cell_type": "code",
   "execution_count": 11,
   "id": "3e9977ee",
   "metadata": {},
   "outputs": [],
   "source": [
    "driver.get('https://www.holidify.com/country/india/places-to-visit.html')\n",
    "#driver.get('https://opensource-demo.orangehrmlive.com/web/index.php/auth/login')"
   ]
  },
  {
   "cell_type": "code",
   "execution_count": null,
   "id": "604350d2",
   "metadata": {},
   "outputs": [],
   "source": []
  },
  {
   "cell_type": "code",
   "execution_count": 12,
   "id": "62185e70",
   "metadata": {},
   "outputs": [],
   "source": [
    "\n",
    "places=[]\n",
    "rating=[]\n",
    "xpath_list = []\n",
    "best_time=[]\n",
    "description=[]\n",
    "w=[]\n",
    "x=[]\n",
    "y=[]\n",
    "\n",
    "for i in range(1,5):\n",
    "    p=f\"/html/body/div[2]/div/div[1]/div[5]/div[{i}]/div/a/h3\"\n",
    "    q=f\"/html/body/div[2]/div/div[1]/div[5]/div[{i}]/div/a/div/span/b\"\n",
    "    a=f\"/html/body/div[2]/div/div[1]/div[5]/div[{i}]/div/div[1]/p[3]\"\n",
    "    j=f\"/html/body/div[2]/div/div[1]/div[5]/div[{i}]/div/div[1]/p[2]\"\n",
    "    w.append(j)\n",
    "    xpath_list.append(p)\n",
    "    x.append(q)\n",
    "    y.append(a)\n",
    "for i in range(6,8):\n",
    "    p=f\"/html/body/div[2]/div/div[1]/div[5]/div[{i}]/div/a/h3\"\n",
    "    q=f\"/html/body/div[2]/div/div[1]/div[5]/div[{i}]/div/a/div/span/b\"\n",
    "    a=f\"/html/body/div[2]/div/div[1]/div[5]/div[{i}]/div/div[1]/p[3]\"\n",
    "    j=f\"/html/body/div[2]/div/div[1]/div[5]/div[{i}]/div/div[1]/p[2]\"\n",
    "    w.append(j)    \n",
    "    y.append(a)\n",
    "    xpath_list.append(p)\n",
    "    x.append(q)\n",
    "for i in range(9,13):\n",
    "    p=f\"/html/body/div[2]/div/div[1]/div[5]/div[{i}]/div/a/h3\"\n",
    "    q=f\"/html/body/div[2]/div/div[1]/div[5]/div[{i}]/div/a/div/span/b\"\n",
    "    a=f\"/html/body/div[2]/div/div[1]/div[5]/div[{i}]/div/div[1]/p[3]\"\n",
    "    j=f\"/html/body/div[2]/div/div[1]/div[5]/div[{i}]/div/div[1]/p[2]\"\n",
    "    w.append(j)    \n",
    "    y.append(a)\n",
    "    x.append(q)\n",
    "    xpath_list.append(p)   \n",
    "for i in range(14,46):\n",
    "    p=f\"/html/body/div[2]/div/div[1]/div[5]/div[{i}]/div/a/h3\"\n",
    "    q=f\"/html/body/div[2]/div/div[1]/div[5]/div[{i}]/div/a/div/span/b\"\n",
    "    a=f\"/html/body/div[2]/div/div[1]/div[5]/div[{i}]/div/div[1]/p[3]\"\n",
    "    j=f\"/html/body/div[2]/div/div[1]/div[5]/div[{i}]/div/div[1]/p[2]\"\n",
    "    w.append(j)    \n",
    "    y.append(a)\n",
    "    x.append(q)\n",
    "    xpath_list.append(p)  \n",
    "for xpath in xpath_list: \n",
    "    p=driver.find_element(By.XPATH,xpath).text.strip()\n",
    "    places.append(p) \n",
    "for xpath in x:\n",
    "    z=driver.find_element(By.XPATH,xpath).text.strip()\n",
    "    rating.append(z)\n",
    "for xpath in y:\n",
    "    b=driver.find_element(By.XPATH,xpath).text.strip(\"Best Time:\")\n",
    "    best_time.append(b)  \n",
    "for xpath in w:\n",
    "    b=driver.find_element(By.XPATH,xpath).text.strip(\"Best Time:\")\n",
    "    description.append(b)    \n",
    "    \n",
    "driver.find_element(By.XPATH,\"/html/body/div[2]/div/div[1]/div[5]/nav/ul/li[5]/a\").click()\n",
    "\n",
    "xpath_li=[]\n",
    "x_l=[]\n",
    "y_l=[]\n",
    "w_l=[]\n",
    "for i in range(1,43):\n",
    "    p=f\"/html/body/div[2]/div/div[1]/div[5]/div[{i}]/div/a/h3\"\n",
    "    q=f\"/html/body/div[2]/div/div[1]/div[5]/div[{i}]/div/a/div/span/b\"\n",
    "    \n",
    "    a=f\"/html/body/div[2]/div/div[1]/div[5]/div[{i}]/div/div[1]/p[3]\"\n",
    "    j=f\"/html/body/div[2]/div/div[1]/div[5]/div[{i}]/div/div[1]/p[2]\"\n",
    "    w_l.append(j)\n",
    "    y_l.append(a)\n",
    "    xpath_li.append(p)\n",
    "    x_l.append(q)\n",
    "for xpath in xpath_li: \n",
    "    p=driver.find_element(By.XPATH,xpath).text.strip()\n",
    "    places.append(p)\n",
    "for xpath in x_l:\n",
    "    z=driver.find_element(By.XPATH,xpath).text.strip()\n",
    "    rating.append(z)   \n",
    "for xpath in y_l:\n",
    "    b=driver.find_element(By.XPATH,xpath).text.strip(\"Best Time:\")\n",
    "    best_time.append(b)     \n",
    "for xpath in w_l:\n",
    "    b=driver.find_element(By.XPATH,xpath).text.strip(\"Best Time:\")\n",
    "    description.append(b)    \n",
    "driver.find_element(By.XPATH,\"/html/body/div[2]/div/div[1]/div[5]/nav/ul/li[5]/a\").click()\n",
    "xpath_l=[]\n",
    "xi=[]\n",
    "yi=[]\n",
    "wi=[]\n",
    "for i in range(1,17):\n",
    "    p=f\"/html/body/div[2]/div/div[1]/div[5]/div[{i}]/div/a/h3\"\n",
    "    q=f\"/html/body/div[2]/div/div[1]/div[5]/div[{i}]/div/a/div/span/b\"\n",
    "    a=f\"/html/body/div[2]/div/div[1]/div[5]/div[{i}]/div/div[1]/p[3]\"\n",
    "    j=f\"/html/body/div[2]/div/div[1]/div[5]/div[{i}]/div/div[1]/p[2]\"\n",
    "    wi.append(j)\n",
    "    yi.append(a)    \n",
    "    xi.append(q)\n",
    "    xpath_l.append(p)\n",
    "for xpath in xpath_l: \n",
    "    p=driver.find_element(By.XPATH,xpath).text.strip()\n",
    "    places.append(p)\n",
    "for xpath in xi:\n",
    "    z=driver.find_element(By.XPATH,xpath).text.strip()\n",
    "    rating.append(z)    \n",
    "for xpath in yi:\n",
    "    b=driver.find_element(By.XPATH,xpath).text.strip(\"Best Time:\")\n",
    "    best_time.append(b)   \n",
    "for xpath in wi:\n",
    "    b=driver.find_element(By.XPATH,xpath).text.strip(\"Best Time:\")\n",
    "    description.append(b)    \n",
    "#print(places) \n",
    "#print(rating)'''\n",
    "\n"
   ]
  },
  {
   "cell_type": "code",
   "execution_count": 6,
   "id": "3778e914",
   "metadata": {},
   "outputs": [
    {
     "data": {
      "text/plain": [
       "(100, 100, 100, 100)"
      ]
     },
     "execution_count": 6,
     "metadata": {},
     "output_type": "execute_result"
    }
   ],
   "source": [
    "stripped_places_list=[]\n",
    "for city in places:\n",
    "    stripped_places = city.split(\". \")[1]\n",
    "    stripped_places_list.append(stripped_places)\n",
    "\n",
    "# Print the list of stripped city names\n",
    "#print(stripped_places_list)\n",
    "len(stripped_places_list),len(rating),len(best_time),len(description)\n"
   ]
  },
  {
   "cell_type": "code",
   "execution_count": 7,
   "id": "886d3931",
   "metadata": {},
   "outputs": [
    {
     "data": {
      "text/html": [
       "<div>\n",
       "<style scoped>\n",
       "    .dataframe tbody tr th:only-of-type {\n",
       "        vertical-align: middle;\n",
       "    }\n",
       "\n",
       "    .dataframe tbody tr th {\n",
       "        vertical-align: top;\n",
       "    }\n",
       "\n",
       "    .dataframe thead th {\n",
       "        text-align: right;\n",
       "    }\n",
       "</style>\n",
       "<table border=\"1\" class=\"dataframe\">\n",
       "  <thead>\n",
       "    <tr style=\"text-align: right;\">\n",
       "      <th></th>\n",
       "      <th>Place</th>\n",
       "      <th>Rating</th>\n",
       "      <th>Best Time to Visit</th>\n",
       "      <th>Description</th>\n",
       "    </tr>\n",
       "  </thead>\n",
       "  <tbody>\n",
       "    <tr>\n",
       "      <th>0</th>\n",
       "      <td>Manali</td>\n",
       "      <td>4.5</td>\n",
       "      <td>October to Jun</td>\n",
       "      <td>With spectacular valleys, breathtaking views, ...</td>\n",
       "    </tr>\n",
       "    <tr>\n",
       "      <th>1</th>\n",
       "      <td>Leh Ladakh</td>\n",
       "      <td>4.6</td>\n",
       "      <td>Jun to Sep</td>\n",
       "      <td>Ladakh is a union territory in the Kashmir reg...</td>\n",
       "    </tr>\n",
       "    <tr>\n",
       "      <th>2</th>\n",
       "      <td>Coorg</td>\n",
       "      <td>4.2</td>\n",
       "      <td>October to March</td>\n",
       "      <td>Located amidst imposing mountains in Karnataka...</td>\n",
       "    </tr>\n",
       "    <tr>\n",
       "      <th>3</th>\n",
       "      <td>Andaman</td>\n",
       "      <td>4.5</td>\n",
       "      <td>October to Jun</td>\n",
       "      <td>Replete with turquoise blue water beaches and ...</td>\n",
       "    </tr>\n",
       "    <tr>\n",
       "      <th>4</th>\n",
       "      <td>Lakshadweep</td>\n",
       "      <td>4.0</td>\n",
       "      <td>September to May</td>\n",
       "      <td>Formerly known as Laccadive Islands, Lakshadwe...</td>\n",
       "    </tr>\n",
       "  </tbody>\n",
       "</table>\n",
       "</div>"
      ],
      "text/plain": [
       "         Place Rating Best Time to Visit  \\\n",
       "0       Manali    4.5     October to Jun   \n",
       "1   Leh Ladakh    4.6         Jun to Sep   \n",
       "2        Coorg    4.2   October to March   \n",
       "3      Andaman    4.5     October to Jun   \n",
       "4  Lakshadweep    4.0   September to May   \n",
       "\n",
       "                                         Description  \n",
       "0  With spectacular valleys, breathtaking views, ...  \n",
       "1  Ladakh is a union territory in the Kashmir reg...  \n",
       "2  Located amidst imposing mountains in Karnataka...  \n",
       "3  Replete with turquoise blue water beaches and ...  \n",
       "4  Formerly known as Laccadive Islands, Lakshadwe...  "
      ]
     },
     "execution_count": 7,
     "metadata": {},
     "output_type": "execute_result"
    }
   ],
   "source": [
    "import pandas as pd\n",
    "# Create a dictionary with column names as keys and lists as values\n",
    "data = {'Place': stripped_places_list, 'Rating': rating, 'Best Time to Visit': best_time, 'Description': description}\n",
    "# Convert the dictionary to a Pandas dataframe\n",
    "df = pd.DataFrame(data)\n",
    "\n",
    "# Print the dataframe\n",
    "df.head()"
   ]
  },
  {
   "cell_type": "code",
   "execution_count": null,
   "id": "37a66fbd",
   "metadata": {},
   "outputs": [],
   "source": [
    "# Set the file path and name\n",
    "file_path = r'C:\\Users\\Jkuma\\Downloads\\tourism.csv'\n",
    "\n",
    "# Save the dataframe as a CSV file in the specified directory\n",
    "#df.to_csv(file_path, index=True)\n"
   ]
  },
  {
   "cell_type": "code",
   "execution_count": null,
   "id": "d32e2e44",
   "metadata": {},
   "outputs": [],
   "source": [
    "#/html/body/div[2]/div/div[1]/div[5]/div[1]/div/div[2]/a[2]"
   ]
  },
  {
   "cell_type": "code",
   "execution_count": null,
   "id": "a9e9f279",
   "metadata": {},
   "outputs": [],
   "source": []
  },
  {
   "cell_type": "code",
   "execution_count": null,
   "id": "b8cc35b3",
   "metadata": {
    "scrolled": true
   },
   "outputs": [],
   "source": []
  },
  {
   "cell_type": "code",
   "execution_count": null,
   "id": "55d80d99",
   "metadata": {},
   "outputs": [],
   "source": []
  },
  {
   "cell_type": "code",
   "execution_count": null,
   "id": "9521e4f9",
   "metadata": {},
   "outputs": [],
   "source": []
  },
  {
   "cell_type": "code",
   "execution_count": null,
   "id": "e32bd40c",
   "metadata": {},
   "outputs": [],
   "source": []
  },
  {
   "cell_type": "code",
   "execution_count": null,
   "id": "fc089055",
   "metadata": {},
   "outputs": [],
   "source": []
  },
  {
   "cell_type": "code",
   "execution_count": null,
   "id": "78cd8a9d",
   "metadata": {},
   "outputs": [],
   "source": []
  }
 ],
 "metadata": {
  "kernelspec": {
   "display_name": "Python 3 (ipykernel)",
   "language": "python",
   "name": "python3"
  },
  "language_info": {
   "codemirror_mode": {
    "name": "ipython",
    "version": 3
   },
   "file_extension": ".py",
   "mimetype": "text/x-python",
   "name": "python",
   "nbconvert_exporter": "python",
   "pygments_lexer": "ipython3",
   "version": "3.9.13"
  }
 },
 "nbformat": 4,
 "nbformat_minor": 5
}
